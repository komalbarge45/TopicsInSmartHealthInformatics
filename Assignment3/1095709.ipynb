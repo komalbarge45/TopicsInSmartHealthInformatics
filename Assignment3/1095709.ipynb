{
 "cells": [
  {
   "cell_type": "markdown",
   "metadata": {},
   "source": [
    "## Topics in Smart Health Informatics\n",
    "### Assignment 3\n",
    "\n",
    "Name: Komal Barge (1095709)"
   ]
  },
  {
   "cell_type": "markdown",
   "metadata": {},
   "source": [
    "Given dataset of 1500 CT scans of various parts of the body such as abdomen, chest and head has to be trained with machine leanring models to classify the images."
   ]
  },
  {
   "cell_type": "code",
   "execution_count": 1,
   "metadata": {},
   "outputs": [],
   "source": [
    "import numpy as np\n",
    "import pandas as pd\n",
    "import matplotlib.pyplot as plt\n",
    "%matplotlib inline"
   ]
  },
  {
   "cell_type": "code",
   "execution_count": 2,
   "metadata": {},
   "outputs": [
    {
     "name": "stderr",
     "output_type": "stream",
     "text": [
      "Using TensorFlow backend.\n"
     ]
    }
   ],
   "source": [
    "from PIL import Image\n",
    "from keras.preprocessing.image import ImageDataGenerator\n",
    "import pickle\n",
    "import os\n",
    "\n",
    "from sklearn.ensemble import RandomForestClassifier\n",
    "from sklearn.neighbors import KNeighborsClassifier\n",
    "import tensorflow as tf\n",
    "from tensorflow import keras\n",
    "from tensorflow.keras import layers\n",
    "from tensorflow.keras.models import Sequential\n",
    "from tensorflow.keras.models import Model, load_model\n",
    "from tensorflow.keras.layers import Flatten, Dense, BatchNormalization\n",
    "from tensorflow.keras.layers import Conv2D\n",
    "from tensorflow.keras.layers import MaxPooling2D\n",
    "from tensorflow.keras.layers import Dropout\n",
    "from sklearn.metrics import classification_report,confusion_matrix, accuracy_score"
   ]
  },
  {
   "cell_type": "code",
   "execution_count": 3,
   "metadata": {},
   "outputs": [],
   "source": [
    "#set the current directory to given path\n",
    "os.chdir(\"./Documents/DS\")"
   ]
  },
  {
   "cell_type": "code",
   "execution_count": 4,
   "metadata": {},
   "outputs": [],
   "source": [
    "#get all the images from set path\n",
    "filenames = os.listdir()\n",
    "categories = []\n",
    "X = []\n",
    "\n",
    "#fetch the target labels for all the images\n",
    "for filename in filenames:\n",
    "    category = filename.split('_')[0]\n",
    "    if category == 'Abdomen':\n",
    "        categories.append(0)\n",
    "    elif category == 'Chest':\n",
    "        categories.append(1)\n",
    "    else:\n",
    "        categories.append(2)\n",
    "    img = Image.open(filename)        #open an image\n",
    "    img = img.resize((32,32))         #resize an image to 32x32 size\n",
    "    imgArray = np.asarray(img)\n",
    "    X.append(imgArray)"
   ]
  },
  {
   "cell_type": "code",
   "execution_count": 5,
   "metadata": {},
   "outputs": [],
   "source": [
    "#reshape the image to send it in convolutional neural networks.\n",
    "X = np.array(X).astype(np.float32)\n",
    "X = np.reshape(X, (-1,32,32,1))\n",
    "y = np.array(categories).astype(np.float32)"
   ]
  },
  {
   "cell_type": "code",
   "execution_count": 6,
   "metadata": {},
   "outputs": [],
   "source": [
    "#split the data in 70:30 ratio\n",
    "from sklearn.model_selection import train_test_split\n",
    "X_train, X_test, y_train, y_test = train_test_split(X, y, test_size=0.3, random_state=42)"
   ]
  },
  {
   "cell_type": "code",
   "execution_count": 7,
   "metadata": {},
   "outputs": [],
   "source": [
    "#convert the target labels to categorical matrix\n",
    "from keras.utils import to_categorical\n",
    "yTrain = to_categorical(y_train, 3)\n",
    "yTest = to_categorical(y_test, 3)"
   ]
  },
  {
   "cell_type": "code",
   "execution_count": 8,
   "metadata": {},
   "outputs": [],
   "source": [
    "#############Preprocess an image with imageDataGenerator#################\n",
    "\n",
    "#Image Augmentations techniques are methods of artificially increasing the variations of images \n",
    "#in our data-set by using horizontal flips, rotations, changing the zoom and shear range etc.\n",
    "\n",
    "train_datagen = ImageDataGenerator(\n",
    "    rotation_range=10,\n",
    "    rescale=1./255,\n",
    "    shear_range=0.1,\n",
    "    zoom_range=0.1,\n",
    "    horizontal_flip=True\n",
    ")\n",
    "train_datagen.fit(X_train)\n",
    "train_generator = train_datagen.flow(X_train, yTrain, batch_size=32)        #to generate batches of augmented train images\n",
    "test_datagen = ImageDataGenerator(rescale=1./255) \n",
    "test_datagen.fit(X_test)\n",
    "test_generator = test_datagen.flow(X_test)                              #to generate batches of augmented test images"
   ]
  },
  {
   "cell_type": "code",
   "execution_count": 9,
   "metadata": {},
   "outputs": [],
   "source": [
    "#build a CNN model to extract features from the images.\n",
    "activationFunction = 'relu'\n",
    "def getCNNModel():\n",
    "    model = Sequential()\n",
    "    model.add(Conv2D(25, kernel_size=(3,3) ,input_shape=X[0].shape,    \n",
    "                  activation=activationFunction))\n",
    "    model.add(BatchNormalization())\n",
    "    model.add(MaxPooling2D(pool_size=2))\n",
    "    model.add(Dropout(0.4))\n",
    "    \n",
    "    model.add(Conv2D(16, kernel_size=(2,2), activation=activationFunction))\n",
    "    model.add(MaxPooling2D(pool_size=2))\n",
    "    \n",
    "    model.add(Conv2D(8, kernel_size=(2,2), activation=activationFunction))\n",
    "    model.add(MaxPooling2D(pool_size=1))\n",
    "    \n",
    "    model.add(Flatten())\n",
    "    model.add(Dense(50, activation=activationFunction, name = \"extractedFeature\"))\n",
    "    model.add(Dense(3, activation='softmax'))\n",
    "    \n",
    "    model.compile(optimizer = 'adam', loss = 'categorical_crossentropy', metrics=['accuracy'])\n",
    "    \n",
    "    return model\n",
    "\n",
    "modelCNN = getCNNModel()"
   ]
  },
  {
   "cell_type": "code",
   "execution_count": 10,
   "metadata": {},
   "outputs": [
    {
     "name": "stdout",
     "output_type": "stream",
     "text": [
      "Epoch 1/5\n",
      "33/33 [==============================] - 2s 66ms/step - loss: 0.4665 - accuracy: 0.8000\n",
      "Epoch 2/5\n",
      "33/33 [==============================] - 2s 62ms/step - loss: 0.0530 - accuracy: 0.9838\n",
      "Epoch 3/5\n",
      "33/33 [==============================] - 2s 63ms/step - loss: 0.0163 - accuracy: 0.9990\n",
      "Epoch 4/5\n",
      "33/33 [==============================] - 2s 62ms/step - loss: 0.0201 - accuracy: 0.9962 0s - loss: 0.0225 - accura\n",
      "Epoch 5/5\n",
      "33/33 [==============================] - 2s 60ms/step - loss: 0.0180 - accuracy: 0.9924\n"
     ]
    }
   ],
   "source": [
    "#we will fit the model augmented images to get the trained layers with proper weight adjustments.\n",
    "history = modelCNN.fit_generator(train_generator,epochs=5)"
   ]
  },
  {
   "cell_type": "code",
   "execution_count": 11,
   "metadata": {},
   "outputs": [
    {
     "name": "stdout",
     "output_type": "stream",
     "text": [
      "Model: \"model\"\n",
      "_________________________________________________________________\n",
      "Layer (type)                 Output Shape              Param #   \n",
      "=================================================================\n",
      "conv2d_input (InputLayer)    [(None, 32, 32, 1)]       0         \n",
      "_________________________________________________________________\n",
      "conv2d (Conv2D)              (None, 30, 30, 25)        250       \n",
      "_________________________________________________________________\n",
      "batch_normalization (BatchNo (None, 30, 30, 25)        100       \n",
      "_________________________________________________________________\n",
      "max_pooling2d (MaxPooling2D) (None, 15, 15, 25)        0         \n",
      "_________________________________________________________________\n",
      "dropout (Dropout)            (None, 15, 15, 25)        0         \n",
      "_________________________________________________________________\n",
      "conv2d_1 (Conv2D)            (None, 14, 14, 16)        1616      \n",
      "_________________________________________________________________\n",
      "max_pooling2d_1 (MaxPooling2 (None, 7, 7, 16)          0         \n",
      "_________________________________________________________________\n",
      "conv2d_2 (Conv2D)            (None, 6, 6, 8)           520       \n",
      "_________________________________________________________________\n",
      "max_pooling2d_2 (MaxPooling2 (None, 6, 6, 8)           0         \n",
      "_________________________________________________________________\n",
      "flatten (Flatten)            (None, 288)               0         \n",
      "_________________________________________________________________\n",
      "extractedFeature (Dense)     (None, 50)                14450     \n",
      "=================================================================\n",
      "Total params: 16,936\n",
      "Trainable params: 16,886\n",
      "Non-trainable params: 50\n",
      "_________________________________________________________________\n"
     ]
    }
   ],
   "source": [
    "#Extract features from second last dense layer in above CNN architecture\n",
    "extractedModel = keras.models.Model(inputs=modelCNN.input, outputs=modelCNN.get_layer('extractedFeature').output)\n",
    "extractedModel.summary()"
   ]
  },
  {
   "cell_type": "code",
   "execution_count": 12,
   "metadata": {},
   "outputs": [],
   "source": [
    "#Extract features for original training images from trained extracted CNN model\n",
    "train_features = extractedModel.predict(X_train)"
   ]
  },
  {
   "cell_type": "code",
   "execution_count": 13,
   "metadata": {},
   "outputs": [],
   "source": [
    "#Extract features for original testing images from trained extracted CNN model\n",
    "test_features = extractedModel.predict(X_test)"
   ]
  },
  {
   "cell_type": "code",
   "execution_count": 14,
   "metadata": {},
   "outputs": [],
   "source": [
    "#Function for showing classification results\n",
    "def showClassficationResults(true_val, predicted_val):\n",
    "    print(\"Detailed Classification report: \\n\",classification_report(true_val, predicted_val))\n",
    "    print('\\n')\n",
    "    print(\"Confusion matrix: \\n\",confusion_matrix(true_val, predicted_val))"
   ]
  },
  {
   "cell_type": "markdown",
   "metadata": {},
   "source": [
    "#### KNN classifier on extracted feature images"
   ]
  },
  {
   "cell_type": "code",
   "execution_count": 15,
   "metadata": {},
   "outputs": [],
   "source": [
    "accuracy = []\n",
    "bestAccuracy = 0\n",
    "#K neighbour values to use in KNN classifier\n",
    "K = [3,5,7,9]\n",
    "\n",
    "for i in K:\n",
    "    knn = KNeighborsClassifier(n_neighbors=i)\n",
    "    knn.fit(train_features, y_train)\n",
    "    pred_knn = knn.predict(test_features)                   #Predict test features of images\n",
    "    modelAccuracy = accuracy_score(y_test, pred_knn)          #Performace metric for multiclass labels\n",
    "    accuracy.append(modelAccuracy)\n",
    "    if bestAccuracy < modelAccuracy:\n",
    "        bestAccuracy = modelAccuracy                        #Assign best accuracy for optimal k value\n",
    "        bestModel = knn                                     #get the best model from optimal k value"
   ]
  },
  {
   "cell_type": "code",
   "execution_count": 16,
   "metadata": {},
   "outputs": [
    {
     "data": {
      "image/png": "[encoded data removed]",
      "text/plain": [
       "<Figure size 576x360 with 1 Axes>"
      ]
     },
     "metadata": {
      "needs_background": "light"
     },
     "output_type": "display_data"
    }
   ],
   "source": [
    "#A graph of K values and their corresponding accuracy performance\n",
    "plt.figure(figsize=(8,5))\n",
    "plt.plot(K,accuracy,color='blue', linestyle='dashed', marker='o',\n",
    "         markerfacecolor='red', markersize=10)\n",
    "plt.title('Accuracy vs. K Value')\n",
    "plt.xlabel('K')\n",
    "plt.ylabel('Accuracy')\n",
    "plt.show()"
   ]
  },
  {
   "cell_type": "code",
   "execution_count": 17,
   "metadata": {},
   "outputs": [
    {
     "name": "stdout",
     "output_type": "stream",
     "text": [
      "Detailed Classification report: \n",
      "               precision    recall  f1-score   support\n",
      "\n",
      "         0.0       1.00      1.00      1.00       148\n",
      "         1.0       1.00      1.00      1.00       141\n",
      "         2.0       1.00      1.00      1.00       161\n",
      "\n",
      "    accuracy                           1.00       450\n",
      "   macro avg       1.00      1.00      1.00       450\n",
      "weighted avg       1.00      1.00      1.00       450\n",
      "\n",
      "\n",
      "\n",
      "Confusion matrix: \n",
      " [[148   0   0]\n",
      " [  0 141   0]\n",
      " [  0   0 161]]\n"
     ]
    }
   ],
   "source": [
    "#Save a model and load the same to get the testing accuracy with the optimal model\n",
    "pickle.dump(bestModel, open('../1095709_KNN.pkl','wb'))\n",
    "loadmodel_knn = pickle.load(open('../1095709_KNN.pkl','rb'))\n",
    "loaded_knn_pred = loadmodel_knn.predict(test_features)\n",
    "showClassficationResults(y_test,loaded_knn_pred)"
   ]
  },
  {
   "cell_type": "code",
   "execution_count": 18,
   "metadata": {},
   "outputs": [
    {
     "data": {
      "text/plain": [
       "<bound method BaseEstimator.get_params of KNeighborsClassifier(algorithm='auto', leaf_size=30, metric='minkowski',\n",
       "                     metric_params=None, n_jobs=None, n_neighbors=3, p=2,\n",
       "                     weights='uniform')>"
      ]
     },
     "execution_count": 18,
     "metadata": {},
     "output_type": "execute_result"
    }
   ],
   "source": [
    "#Optimal parameters used for KNN\n",
    "loadmodel_knn.get_params"
   ]
  },
  {
   "cell_type": "markdown",
   "metadata": {},
   "source": [
    "#### Random forest on extracted features"
   ]
  },
  {
   "cell_type": "code",
   "execution_count": 19,
   "metadata": {},
   "outputs": [
    {
     "name": "stdout",
     "output_type": "stream",
     "text": [
      "Fitting 5 folds for each of 15 candidates, totalling 75 fits\n"
     ]
    },
    {
     "name": "stderr",
     "output_type": "stream",
     "text": [
      "[Parallel(n_jobs=-1)]: Using backend LokyBackend with 8 concurrent workers.\n",
      "[Parallel(n_jobs=-1)]: Done  25 tasks      | elapsed:    2.8s\n",
      "[Parallel(n_jobs=-1)]: Done  75 out of  75 | elapsed:    3.8s finished\n"
     ]
    },
    {
     "data": {
      "text/plain": [
       "RandomizedSearchCV(cv=5, error_score='raise-deprecating',\n",
       "                   estimator=RandomForestClassifier(bootstrap=True,\n",
       "                                                    class_weight=None,\n",
       "                                                    criterion='gini',\n",
       "                                                    max_depth=None,\n",
       "                                                    max_features='auto',\n",
       "                                                    max_leaf_nodes=None,\n",
       "                                                    min_impurity_decrease=0.0,\n",
       "                                                    min_impurity_split=None,\n",
       "                                                    min_samples_leaf=1,\n",
       "                                                    min_samples_split=2,\n",
       "                                                    min_weight_fraction_leaf=0.0,\n",
       "                                                    n_estimators='warn',\n",
       "                                                    n_jobs=None,\n",
       "                                                    oob_score=False,\n",
       "                                                    random_state=None,\n",
       "                                                    verbose=0,\n",
       "                                                    warm_start=False),\n",
       "                   iid='warn', n_iter=15, n_jobs=-1,\n",
       "                   param_distributions={'max_depth': [10, 20, 30, 40, 50, 60,\n",
       "                                                      70, 80, 90, 100, 110],\n",
       "                                        'max_features': ['auto', 'sqrt'],\n",
       "                                        'n_estimators': [20, 30, 40, 50, 60, 70,\n",
       "                                                         80, 90]},\n",
       "                   pre_dispatch='2*n_jobs', random_state=42, refit=True,\n",
       "                   return_train_score=False, scoring=None, verbose=2)"
      ]
     },
     "execution_count": 19,
     "metadata": {},
     "output_type": "execute_result"
    }
   ],
   "source": [
    "rfc = RandomForestClassifier()\n",
    "\n",
    "from sklearn.model_selection import RandomizedSearchCV\n",
    "\n",
    "#############Hyperparameters to be tuned using random search###############\n",
    "\n",
    "# Number of trees in random forest\n",
    "n_estimators = [int(x) for x in range(20,100,10)]\n",
    "# Number of features to consider at every split\n",
    "max_features = ['auto', 'sqrt']\n",
    "# Maximum number of levels in tree\n",
    "max_depth = [int(x) for x in np.linspace(10, 110, num = 11)]\n",
    "# Create the random grid\n",
    "random_grid = {'n_estimators': n_estimators,\n",
    "               'max_features': max_features,\n",
    "               'max_depth': max_depth}\n",
    "\n",
    "rf_random = RandomizedSearchCV(estimator = rfc, param_distributions = random_grid, n_iter = 15, cv = 5, verbose=2, random_state=42, n_jobs = -1)\n",
    "# Fit the random search model\n",
    "rf_random.fit(train_features,y_train)"
   ]
  },
  {
   "cell_type": "code",
   "execution_count": 20,
   "metadata": {},
   "outputs": [
    {
     "name": "stdout",
     "output_type": "stream",
     "text": [
      "Detailed Classification report: \n",
      "               precision    recall  f1-score   support\n",
      "\n",
      "         0.0       1.00      1.00      1.00       148\n",
      "         1.0       1.00      1.00      1.00       141\n",
      "         2.0       1.00      1.00      1.00       161\n",
      "\n",
      "    accuracy                           1.00       450\n",
      "   macro avg       1.00      1.00      1.00       450\n",
      "weighted avg       1.00      1.00      1.00       450\n",
      "\n",
      "\n",
      "\n",
      "Confusion matrix: \n",
      " [[148   0   0]\n",
      " [  0 141   0]\n",
      " [  0   0 161]]\n"
     ]
    }
   ],
   "source": [
    "#Save the model and load it to test images. Show the confusion matrix for the optimal performance.\n",
    "pickle.dump(rf_random, open('../1095709_RF.pkl','wb'))\n",
    "loadmodel_rfc = pickle.load(open('../1095709_RF.pkl','rb'))\n",
    "loaded_rfc_pred = loadmodel_rfc.predict(test_features)\n",
    "showClassficationResults(y_test,loaded_rfc_pred)"
   ]
  },
  {
   "cell_type": "code",
   "execution_count": 21,
   "metadata": {},
   "outputs": [
    {
     "data": {
      "text/plain": [
       "{'n_estimators': 80, 'max_features': 'sqrt', 'max_depth': 20}"
      ]
     },
     "execution_count": 21,
     "metadata": {},
     "output_type": "execute_result"
    }
   ],
   "source": [
    "#Best hyperparameters used for RF prediction\n",
    "rf_random.best_params_"
   ]
  },
  {
   "cell_type": "code",
   "execution_count": null,
   "metadata": {},
   "outputs": [],
   "source": []
  }
 ],
 "metadata": {
  "kernelspec": {
   "display_name": "Python 3",
   "language": "python",
   "name": "python3"
  },
  "language_info": {
   "codemirror_mode": {
    "name": "ipython",
    "version": 3
   },
   "file_extension": ".py",
   "mimetype": "text/x-python",
   "name": "python",
   "nbconvert_exporter": "python",
   "pygments_lexer": "ipython3",
   "version": "3.7.3"
  }
 },
 "nbformat": 4,
 "nbformat_minor": 2
}
